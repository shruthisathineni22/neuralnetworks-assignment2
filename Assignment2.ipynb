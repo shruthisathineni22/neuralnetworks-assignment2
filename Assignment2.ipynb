{
  "nbformat": 4,
  "nbformat_minor": 0,
  "metadata": {
    "colab": {
      "provenance": []
    },
    "kernelspec": {
      "name": "python3",
      "display_name": "Python 3"
    },
    "language_info": {
      "name": "python"
    }
  },
  "cells": [
    {
      "cell_type": "code",
      "execution_count": 2,
      "metadata": {
        "colab": {
          "base_uri": "https://localhost:8080/"
        },
        "id": "UqFAlsw-2Nvq",
        "outputId": "27be479f-f51c-43b1-bedf-9c4bf04cd30c"
      },
      "outputs": [
        {
          "output_type": "stream",
          "name": "stdout",
          "text": [
            "Enter your first name: shruthi\n",
            "Enter your last name: sathineni\n",
            "your full_name is :  shruthi sathineni\n",
            "your alternative string is:  srtistiei\n"
          ]
        }
      ],
      "source": [
        "first_name = input(\"Enter your first name: \")\n",
        "last_name = input(\"Enter your last name: \")\n",
        "def fullname(first_name, last_name):\n",
        "    global full_name\n",
        "    full_name = first_name + \" \" + last_name\n",
        "    print(\"your full_name is : \", full_name)\n",
        "fullname(first_name, last_name)\n",
        "def string_alternative(full_name):\n",
        "    print(\"your alternative string is: \", full_name[::2])\n",
        "string_alternative(full_name)\n"
      ]
    },
    {
      "cell_type": "code",
      "source": [
        "def word_count(str):\n",
        "    counts = dict()\n",
        "    words = str.split()\n",
        "\n",
        "    for word in words:\n",
        "        if word in counts:\n",
        "            counts[word] += 1\n",
        "        else:\n",
        "            counts[word] = 1\n",
        "\n",
        "    return counts\n",
        "with open('sample.txt', 'r') as file1:\n",
        "  FileContent = file1.read()\n",
        "  print(word_count(FileContent))\n"
      ],
      "metadata": {
        "colab": {
          "base_uri": "https://localhost:8080/"
        },
        "id": "m_gpqeIb2zRl",
        "outputId": "d7a75f50-8932-4c72-e2a6-d421d41b6550"
      },
      "execution_count": 5,
      "outputs": [
        {
          "output_type": "stream",
          "name": "stdout",
          "text": [
            "{'Python': 2, 'Course': 4, 'Deep': 2, 'Learning': 2, 'count': 1, ':': 1, '1': 5}\n"
          ]
        }
      ]
    },
    {
      "cell_type": "code",
      "source": [
        "import numpy as np\n",
        "mylst = []\n",
        "\n",
        "# number of elements as input\n",
        "n = int(input(\"Enter number of elements : \"))\n",
        "\n",
        "# iterating till the range\n",
        "for i in range(0, n):\n",
        "    ele = int(input())\n",
        "\n",
        "    mylst.append(ele) # adding the element\n",
        "\n",
        "print(mylst)\n",
        "lyst = mylst\n",
        "result = 2.54\n",
        "for x in lyst:\n",
        " h_cm = np.array(lyst) * result\n",
        " new_list = list(h_cm)\n",
        "print(new_list)"
      ],
      "metadata": {
        "colab": {
          "base_uri": "https://localhost:8080/"
        },
        "id": "gnIX5S4u2-UE",
        "outputId": "6a1e3a21-76f4-4250-9473-da0981eca750"
      },
      "execution_count": 4,
      "outputs": [
        {
          "output_type": "stream",
          "name": "stdout",
          "text": [
            "Enter number of elements : 4\n",
            "150\n",
            "155\n",
            "145\n",
            "140\n",
            "[150, 155, 145, 140]\n",
            "[381.0, 393.7, 368.3, 355.6]\n"
          ]
        }
      ]
    }
  ]
}